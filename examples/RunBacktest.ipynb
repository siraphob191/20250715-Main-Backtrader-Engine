{
 "cells": [
  {
   "cell_type": "markdown",
   "id": "24f9be03",
   "metadata": {},
   "source": [
    "# Run Backtest"
   ]
  },
  {
   "cell_type": "code",
   "execution_count": null,
   "id": "edac3aa8",
   "metadata": {},
   "outputs": [],
   "source": [
    "import src.config as config\n",
    "\n",
    "# Update these paths to your local CSV directories\n",
    "config.etf_data_path = \"/path/to/etf_csvs\"\n",
    "config.stock_data_path = \"/path/to/stock_csvs\"\n",
    "config.benchmark_data_path = \"/path/to/benchmark_csvs\"\n",
    "config.sector_library_path = \"/path/to/Sector Library.csv\"\n",
    "config.sp500_constituents_path = \"/path/to/20220402 S&P 500 Constituents Symbols.csv\"\n",
    "config.stock_list_path = \"/path/to/List of Tickers Updated with Sectors.csv\""
   ]
  },
  {
   "cell_type": "code",
   "execution_count": null,
   "id": "80d58c6c",
   "metadata": {},
   "outputs": [],
   "source": [
    "import src.run_backtest as run_backtest\n",
    "\n",
    "run_backtest.main()"
   ]
  }
 ],
 "metadata": {},
 "nbformat": 4,
 "nbformat_minor": 5
}
